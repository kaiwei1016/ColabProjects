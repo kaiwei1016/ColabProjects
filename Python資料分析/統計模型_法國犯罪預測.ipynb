{
  "nbformat": 4,
  "nbformat_minor": 0,
  "metadata": {
    "colab": {
      "provenance": [],
      "authorship_tag": "ABX9TyNCUKP7e9Q2laX7mgvP90aA",
      "include_colab_link": true
    },
    "kernelspec": {
      "name": "python3",
      "display_name": "Python 3"
    },
    "language_info": {
      "name": "python"
    }
  },
  "cells": [
    {
      "cell_type": "markdown",
      "metadata": {
        "id": "view-in-github",
        "colab_type": "text"
      },
      "source": [
        "<a href=\"https://colab.research.google.com/github/kaiwei1016/ColabProjects/blob/main/Python/%E7%B5%B1%E8%A8%88%E6%A8%A1%E5%9E%8B_%E6%B3%95%E5%9C%8B%E7%8A%AF%E7%BD%AA%E9%A0%90%E6%B8%AC.ipynb\" target=\"_parent\"><img src=\"https://colab.research.google.com/assets/colab-badge.svg\" alt=\"Open In Colab\"/></a>"
      ]
    },
    {
      "cell_type": "markdown",
      "source": [
        "Python統計模型: 法國人身犯罪案件數預測"
      ],
      "metadata": {
        "id": "c6IEr7o_YMzX"
      }
    },
    {
      "cell_type": "code",
      "execution_count": null,
      "metadata": {
        "colab": {
          "base_uri": "https://localhost:8080/"
        },
        "id": "nLzth8oatktm",
        "outputId": "a428a54d-1602-4a1f-b361-76ba5a3ae131"
      },
      "outputs": [
        {
          "output_type": "stream",
          "name": "stdout",
          "text": [
            "# 處理完的資料(地區/行政區/人身犯罪案件數/識字率/財富) \n",
            "    Region    Department  Crime_pers  Literacy  Wealth\n",
            "0       E           Ain       28870        37      73\n",
            "1       N         Aisne       26226        51      22\n",
            "2       C        Allier       26747        13      61\n",
            "3       E  Basses-Alpes       12935        46      76\n",
            "4       E  Hautes-Alpes       17488        69      83\n",
            "..    ...           ...         ...       ...     ...\n",
            "80      W        Vendee       20827        28      56\n",
            "81      W        Vienne       15010        25      68\n",
            "82      C  Haute-Vienne       16256        13      67\n",
            "83      E        Vosges       18835        62      82\n",
            "84      C         Yonne       18006        47      30\n",
            "\n",
            "[85 rows x 5 columns]\n",
            "\n",
            "# 取後10筆資料做為測試資料: \n",
            "    Region       Department  Crime_pers  Literacy  Wealth\n",
            "75      N            Somme       33592        44      21\n",
            "76      S             Tarn       13019        20      47\n",
            "77      S  Tarn-et-Garonne       14790        25      29\n",
            "78      S              Var       13145        23      43\n",
            "79      S         Vaucluse       13576        37      64\n",
            "80      W           Vendee       20827        28      56\n",
            "81      W           Vienne       15010        25      68\n",
            "82      C     Haute-Vienne       16256        13      67\n",
            "83      E           Vosges       18835        62      82\n",
            "84      C            Yonne       18006        47      30\n",
            "\n",
            "# 這10個行政區的'人身犯罪案件數'預測結果: \n",
            " 75    23629.493157\n",
            "76    13055.394787\n",
            "77    13256.245553\n",
            "78    12919.734845\n",
            "79    10792.327776\n",
            "80    22248.296189\n",
            "81    22082.579188\n",
            "82    23092.644101\n",
            "83    18442.440438\n",
            "84    21241.230448\n",
            "dtype: float64\n"
          ]
        }
      ],
      "source": [
        "import statsmodels.api as sm\n",
        "import pandas\n",
        "\n",
        "df = sm.datasets.get_rdataset(\"Guerry\", \"HistData\").data  #匯入\"法國道德統計\"資料\n",
        "vars = ['Region', 'Department', 'Crime_pers', 'Literacy', 'Wealth']  #選擇5種數據建立DataFrame\n",
        "df = df[vars]  \n",
        "df = df.dropna()  #刪除缺失資料\n",
        "print(\"# 處理完的資料(地區/行政區/人身犯罪案件數/識字率/財富) \\n\",df)\n",
        "\n",
        "\n",
        "import patsy\n",
        "y, X = patsy.dmatrices('Crime_pers~Region+Literacy+Wealth',data=df,return_type='dataframe')  #建立矩陣\n",
        "model = sm.OLS(y, X)  #用最小平方法回歸分析\n",
        "res = model.fit()  #模型適配度檢測\n",
        "\n",
        "testy,testX = patsy.dmatrices('Crime_pers~Region+Literacy+Wealth'  #取後10筆資料作測試資料,建立矩陣\n",
        ",data=df[-10:],return_type='dataframe')  #預測數據\n",
        "print(\"\\n# 取後10筆資料做為測試資料: \\n\",df[-10:])\n",
        "print(\"\\n# 這10個行政區的'人身犯罪案件數'預測結果: \\n\",res.predict(testX))"
      ]
    }
  ]
}