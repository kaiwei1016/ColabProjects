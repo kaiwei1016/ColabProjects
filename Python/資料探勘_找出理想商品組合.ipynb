{
  "nbformat": 4,
  "nbformat_minor": 0,
  "metadata": {
    "colab": {
      "provenance": [],
      "authorship_tag": "ABX9TyMbc+4LMWjZDsaNiFP06CPq",
      "include_colab_link": true
    },
    "kernelspec": {
      "name": "python3",
      "display_name": "Python 3"
    },
    "language_info": {
      "name": "python"
    }
  },
  "cells": [
    {
      "cell_type": "markdown",
      "metadata": {
        "id": "view-in-github",
        "colab_type": "text"
      },
      "source": [
        "<a href=\"https://colab.research.google.com/github/kaiwei1016/MyProjects/blob/main/Python/%E8%B3%87%E6%96%99%E6%8E%A2%E5%8B%98_%E6%89%BE%E5%87%BA%E7%90%86%E6%83%B3%E5%95%86%E5%93%81%E7%B5%84%E5%90%88.ipynb\" target=\"_parent\"><img src=\"https://colab.research.google.com/assets/colab-badge.svg\" alt=\"Open In Colab\"/></a>"
      ]
    },
    {
      "cell_type": "markdown",
      "source": [
        "Python資料探勘: 找出理想商品組合"
      ],
      "metadata": {
        "id": "sQi1TjoiS7Ac"
      }
    },
    {
      "cell_type": "code",
      "execution_count": 12,
      "metadata": {
        "colab": {
          "base_uri": "https://localhost:8080/"
        },
        "id": "cOMZiZkMO4v6",
        "outputId": "ad4ba929-f686-417d-e6e0-302fd41ad2db"
      },
      "outputs": [
        {
          "output_type": "stream",
          "name": "stdout",
          "text": [
            "# 轉為布林形式的訂單如下: \n",
            "    Apple   Corn   Dill   Eggs  Ice cream  Kidney Beans   Milk  Nutmeg  Onion  \\\n",
            "0  False  False  False   True      False          True   True    True   True   \n",
            "1  False  False   True   True      False          True  False    True   True   \n",
            "2   True  False  False   True      False          True   True   False  False   \n",
            "3  False   True  False  False      False          True   True   False  False   \n",
            "4  False   True  False   True       True          True  False   False   True   \n",
            "\n",
            "   Unicorn  Yogurt  \n",
            "0    False    True  \n",
            "1    False    True  \n",
            "2    False   False  \n",
            "3     True    True  \n",
            "4    False   False  \n",
            "\n",
            "# 支持度大於0.6的商品組合如下: \n",
            "     support                     itemsets\n",
            "0       0.8                       (Eggs)\n",
            "1       1.0               (Kidney Beans)\n",
            "2       0.6                       (Milk)\n",
            "3       0.6                      (Onion)\n",
            "4       0.6                     (Yogurt)\n",
            "5       0.8         (Eggs, Kidney Beans)\n",
            "6       0.6                (Eggs, Onion)\n",
            "7       0.6         (Milk, Kidney Beans)\n",
            "8       0.6        (Kidney Beans, Onion)\n",
            "9       0.6       (Yogurt, Kidney Beans)\n",
            "10      0.6  (Eggs, Kidney Beans, Onion)\n",
            "\n",
            "# 理想商品組合為: \n",
            "    support              itemsets  length\n",
            "5      0.8  (Eggs, Kidney Beans)       2\n"
          ]
        }
      ],
      "source": [
        "dataset = [['Milk', 'Onion', 'Nutmeg', 'Kidney Beans', 'Eggs', 'Yogurt'],\n",
        "      ['Dill', 'Onion', 'Nutmeg', 'Kidney Beans', 'Eggs', 'Yogurt'],\n",
        "      ['Milk', 'Apple', 'Kidney Beans', 'Eggs'],\n",
        "      ['Milk', 'Unicorn', 'Corn', 'Kidney Beans', 'Yogurt'],\n",
        "      ['Corn', 'Onion', 'Onion', 'Kidney Beans', 'Ice cream', 'Eggs']]  #假設訂單資料\n",
        "import pandas as pd\n",
        "from mlxtend.preprocessing import TransactionEncoder\n",
        "\n",
        "te = TransactionEncoder()\n",
        "te_ary = te.fit(dataset).transform(dataset)\n",
        "df = pd.DataFrame(te_ary, columns=te.columns_)  #將訂單轉為布林形式\n",
        "print(\"# 轉為布林形式的訂單如下: \\n\",df)\n",
        "\n",
        "from mlxtend.frequent_patterns import apriori\n",
        "apriori(df, min_support=0.6, use_colnames=True)  #算出支持度大於0.6的商品組合\n",
        "\n",
        "\n",
        "itemsets = apriori(df, min_support=0.6, use_colnames=True)\n",
        "print(\"\\n# 支持度大於0.6的商品組合如下: \\n\",itemsets)\n",
        "\n",
        "itemsets['length'] = itemsets['itemsets'].apply(lambda x:len(x))\n",
        "print(\"\\n# 理想商品組合為: \\n\",itemsets[(itemsets['length']==2) & (itemsets['support']>=0.7)])  #再篩選出包含2個商品,且支持度大於0.7的商品組合\n"
      ]
    }
  ]
}