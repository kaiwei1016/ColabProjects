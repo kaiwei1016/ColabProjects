{
  "nbformat": 4,
  "nbformat_minor": 0,
  "metadata": {
    "colab": {
      "provenance": [],
      "authorship_tag": "ABX9TyO140slCZvmQpfjsro0gg7U",
      "include_colab_link": true
    },
    "kernelspec": {
      "name": "python3",
      "display_name": "Python 3"
    },
    "language_info": {
      "name": "python"
    }
  },
  "cells": [
    {
      "cell_type": "markdown",
      "metadata": {
        "id": "view-in-github",
        "colab_type": "text"
      },
      "source": [
        "<a href=\"https://colab.research.google.com/github/kaiwei1016/MyProjects/blob/main/Python/%E6%A9%9F%E5%99%A8%E5%AD%B8%E7%BF%92%E5%AF%A6%E4%BD%9C_%E5%A2%A8%E7%88%BE%E6%9C%AC%E6%88%BF%E5%83%B9%E9%A0%90%E6%B8%AC.ipynb\" target=\"_parent\"><img src=\"https://colab.research.google.com/assets/colab-badge.svg\" alt=\"Open In Colab\"/></a>"
      ]
    },
    {
      "cell_type": "markdown",
      "source": [
        "Python/機器學習實作_墨爾本房價預測"
      ],
      "metadata": {
        "id": "52e3iRueO_Qe"
      }
    },
    {
      "cell_type": "code",
      "execution_count": 19,
      "metadata": {
        "colab": {
          "base_uri": "https://localhost:8080/"
        },
        "id": "dA9xTpoLchiY",
        "outputId": "97d093f1-df85-4794-b31f-c4bfc301f43b"
      },
      "outputs": [
        {
          "output_type": "stream",
          "name": "stdout",
          "text": [
            "# 可分析的數據種類如下: \n",
            " Index(['Unnamed: 0', 'Suburb', 'Address', 'Rooms', 'Type', 'Price', 'Method',\n",
            "       'SellerG', 'Date', 'Distance', 'Postcode', 'Bedroom2', 'Bathroom',\n",
            "       'Car', 'Landsize', 'BuildingArea', 'YearBuilt', 'CouncilArea',\n",
            "       'Lattitude', 'Longtitude', 'Regionname', 'Propertycount'],\n",
            "      dtype='object')\n",
            "\n",
            "# 分析以下五種房屋數據(房間數量/浴室數量/土地面積/緯度/經度)\n",
            "              Rooms     Bathroom      Landsize    Lattitude   Longtitude\n",
            "count  6196.000000  6196.000000   6196.000000  6196.000000  6196.000000\n",
            "mean      2.931407     1.576340    471.006940   -37.807904   144.990201\n",
            "std       0.971079     0.711362    897.449881     0.075850     0.099165\n",
            "min       1.000000     1.000000      0.000000   -38.164920   144.542370\n",
            "25%       2.000000     1.000000    152.000000   -37.855438   144.926198\n",
            "50%       3.000000     1.000000    373.000000   -37.802250   144.995800\n",
            "75%       4.000000     2.000000    628.000000   -37.758200   145.052700\n",
            "max       8.000000     8.000000  37000.000000   -37.457090   145.526350\n",
            "\n",
            "# 對以下條件的五間房做房價預測：\n",
            "    Rooms  Bathroom  Landsize  Lattitude  Longtitude\n",
            "1      2       1.0     156.0   -37.8079    144.9934\n",
            "2      3       2.0     134.0   -37.8093    144.9944\n",
            "4      4       1.0     120.0   -37.8072    144.9941\n",
            "6      3       2.0     245.0   -37.8024    144.9993\n",
            "7      2       1.0     256.0   -37.8060    144.9954\n",
            "\n",
            "# 預測的房價結果為: \n",
            " [1035000. 1465000. 1600000. 1876000. 1636000.]\n"
          ]
        }
      ],
      "source": [
        "import pandas as pd\n",
        "file = 'melb_data.csv'  #匯入\"墨爾本房屋概況\"資料\n",
        "data = pd.read_csv(file) \n",
        "print(\"# 可分析的數據種類如下: \\n\",data.columns)  #列出可分析的數據種類\n",
        "\n",
        "data = data.dropna(axis=0)  #刪除缺失資料\n",
        "y = data.Price  #設定房價為y\n",
        "features = ['Rooms', 'Bathroom',\n",
        "'Landsize', 'Lattitude', 'Longtitude']  #選擇5種數據為x\n",
        "X = data[features]\n",
        "print(\"\\n# 分析以下五種房屋數據(房間數量/浴室數量/土地面積/緯度/經度)\\n\",X.describe()) #先描述數據\n",
        "\n",
        "from sklearn.tree import DecisionTreeRegressor \n",
        "model = DecisionTreeRegressor(random_state=1)  #用決策樹作回歸分析\n",
        "model.fit(X, y)                  #模型適配度檢測\n",
        "print(\"\\n# 對以下條件的五間房做房價預測: \\n\",X.head())  #取5筆資料作測試\n",
        "print(\"\\n# 預測的房價結果為: \\n\",model.predict(X.head()))"
      ]
    }
  ]
}