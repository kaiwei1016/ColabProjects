{
  "nbformat": 4,
  "nbformat_minor": 0,
  "metadata": {
    "colab": {
      "provenance": [],
      "authorship_tag": "ABX9TyNk5mnJeGwYtX7p+V23dkCt",
      "include_colab_link": true
    },
    "kernelspec": {
      "name": "python3",
      "display_name": "Python 3"
    },
    "language_info": {
      "name": "python"
    }
  },
  "cells": [
    {
      "cell_type": "markdown",
      "metadata": {
        "id": "view-in-github",
        "colab_type": "text"
      },
      "source": [
        "<a href=\"https://colab.research.google.com/github/kaiwei1016/ColabProjects/blob/main/Python/%E8%B3%87%E6%96%99%E6%8E%A2%E5%8B%98_%E5%88%86%E6%9E%90%E7%90%86%E6%83%B3%E5%95%86%E5%93%81%E7%B5%84%E5%90%88.ipynb\" target=\"_parent\"><img src=\"https://colab.research.google.com/assets/colab-badge.svg\" alt=\"Open In Colab\"/></a>"
      ]
    },
    {
      "cell_type": "markdown",
      "source": [
        "Python資料探勘: 分析理想商品組合"
      ],
      "metadata": {
        "id": "sQi1TjoiS7Ac"
      }
    },
    {
      "cell_type": "code",
      "execution_count": null,
      "metadata": {
        "colab": {
          "base_uri": "https://localhost:8080/"
        },
        "id": "cOMZiZkMO4v6",
        "outputId": "36084b88-0a25-4b51-f022-b6416be9436a"
      },
      "outputs": [
        {
          "output_type": "stream",
          "name": "stdout",
          "text": [
            "\n",
            "# 轉成布林形式的訂單資料如下: \n",
            "    Apple  Beans   Corn   Eggs  Ice cream  Juice   Milk  Nutmeg  Onion  Yogurt\n",
            "0  False   True  False   True      False  False   True    True   True    True\n",
            "1  False   True  False   True      False   True  False    True   True    True\n",
            "2   True   True  False   True      False  False   True   False  False   False\n",
            "3  False   True   True  False      False   True   True   False  False    True\n",
            "4  False   True   True   True       True  False  False   False   True   False\n",
            "\n",
            "# 支持度大於0.6的商品組合如下: \n",
            "     support              itemsets\n",
            "0       1.0               (Beans)\n",
            "1       0.8                (Eggs)\n",
            "2       0.6                (Milk)\n",
            "3       0.6               (Onion)\n",
            "4       0.6              (Yogurt)\n",
            "5       0.8         (Eggs, Beans)\n",
            "6       0.6         (Milk, Beans)\n",
            "7       0.6        (Beans, Onion)\n",
            "8       0.6       (Yogurt, Beans)\n",
            "9       0.6         (Eggs, Onion)\n",
            "10      0.6  (Eggs, Beans, Onion)\n",
            "\n",
            "# 剩下最理想的商品組合: \n",
            "    support       itemsets  length\n",
            "5      0.8  (Eggs, Beans)       2\n"
          ]
        }
      ],
      "source": [
        "dataset = [['Milk', 'Onion', 'Nutmeg', 'Beans', 'Eggs', 'Yogurt'],\n",
        "      ['Juice', 'Onion', 'Nutmeg', 'Beans', 'Eggs', 'Yogurt'],\n",
        "      ['Milk', 'Apple', 'Beans', 'Eggs'],\n",
        "      ['Milk', 'Juice', 'Corn', 'Beans', 'Yogurt'],\n",
        "      ['Corn', 'Onion', 'Onion', 'Beans', 'Ice cream', 'Eggs']]  #假設有5筆訂單資料\n",
        "import pandas as pd\n",
        "from mlxtend.preprocessing import TransactionEncoder\n",
        "\n",
        "te = TransactionEncoder()\n",
        "te_ary = te.fit(dataset).transform(dataset)\n",
        "df = pd.DataFrame(te_ary, columns=te.columns_)  #將訂單資料轉成布林形式\n",
        "print(\"\\n# 轉成布林形式的訂單資料如下: \\n\",df)\n",
        "\n",
        "from mlxtend.frequent_patterns import apriori\n",
        "apriori(df, min_support=0.6, use_colnames=True)  #篩選出支持度大於0.6的商品組合\n",
        "itemsets = apriori(df, min_support=0.6, use_colnames=True)\n",
        "print(\"\\n# 支持度大於0.6的商品組合如下: \\n\",itemsets)\n",
        "itemsets['length'] = itemsets['itemsets'].apply(lambda x:len(x))\n",
        "print(\"\\n# 剩下最理想的商品組合: \\n\",itemsets[(itemsets['length']==2) & (itemsets['support']>=0.7)])  #再篩選出包含2個商品,且支持度大於0.7的商品組合\n"
      ]
    }
  ]
}